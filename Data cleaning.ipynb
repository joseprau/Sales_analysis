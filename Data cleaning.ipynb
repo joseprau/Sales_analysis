{
 "cells": [
  {
   "cell_type": "code",
   "execution_count": 1,
   "id": "8f14f522",
   "metadata": {},
   "outputs": [],
   "source": [
    "import pandas as pd"
   ]
  },
  {
   "cell_type": "code",
   "execution_count": 2,
   "id": "68ba1462",
   "metadata": {},
   "outputs": [],
   "source": [
    "import glob"
   ]
  },
  {
   "cell_type": "code",
   "execution_count": 3,
   "id": "8204f9f2",
   "metadata": {},
   "outputs": [],
   "source": [
    "path = 'data/'"
   ]
  },
  {
   "cell_type": "code",
   "execution_count": 4,
   "id": "615e71b9",
   "metadata": {},
   "outputs": [],
   "source": [
    "all_files = glob.glob(path + \"/*.csv\")"
   ]
  },
  {
   "cell_type": "code",
   "execution_count": 5,
   "id": "1e96ad6e",
   "metadata": {},
   "outputs": [],
   "source": [
    "li = []\n",
    "\n",
    "for filename in all_files:\n",
    "    df = pd.read_csv(filename, index_col=None, header=0)\n",
    "    li.append(df)\n",
    "\n",
    "frame = pd.concat(li, axis=0, ignore_index=True)"
   ]
  },
  {
   "cell_type": "code",
   "execution_count": 8,
   "id": "08ee361e",
   "metadata": {},
   "outputs": [],
   "source": [
    "New_df = frame[frame['Order Date'].notna()]"
   ]
  },
  {
   "cell_type": "code",
   "execution_count": 9,
   "id": "7c44a57e",
   "metadata": {},
   "outputs": [
    {
     "data": {
      "text/plain": [
       "Order ID            0\n",
       "Product             0\n",
       "Quantity Ordered    0\n",
       "Price Each          0\n",
       "Order Date          0\n",
       "Purchase Address    0\n",
       "dtype: int64"
      ]
     },
     "execution_count": 9,
     "metadata": {},
     "output_type": "execute_result"
    }
   ],
   "source": [
    "New_df.isna().sum() # NO more NaN"
   ]
  },
  {
   "cell_type": "code",
   "execution_count": 10,
   "id": "85125fd9",
   "metadata": {},
   "outputs": [
    {
     "name": "stderr",
     "output_type": "stream",
     "text": [
      "/var/folders/xn/r9xc8p3151s4yw6tpl5_31mm0000gn/T/ipykernel_77840/3956029054.py:1: SettingWithCopyWarning: \n",
      "A value is trying to be set on a copy of a slice from a DataFrame.\n",
      "Try using .loc[row_indexer,col_indexer] = value instead\n",
      "\n",
      "See the caveats in the documentation: https://pandas.pydata.org/pandas-docs/stable/user_guide/indexing.html#returning-a-view-versus-a-copy\n",
      "  New_df['Length OD'] = New_df['Order Date'].str.len()\n"
     ]
    }
   ],
   "source": [
    "New_df['Length OD'] = New_df['Order Date'].str.len()"
   ]
  },
  {
   "cell_type": "code",
   "execution_count": 11,
   "id": "4053b444",
   "metadata": {},
   "outputs": [],
   "source": [
    "import numpy as np"
   ]
  },
  {
   "cell_type": "code",
   "execution_count": 12,
   "id": "c5d695bc",
   "metadata": {},
   "outputs": [
    {
     "data": {
      "text/plain": [
       "14    185950\n",
       "10       355\n",
       "Name: Length OD, dtype: int64"
      ]
     },
     "execution_count": 12,
     "metadata": {},
     "output_type": "execute_result"
    }
   ],
   "source": [
    "New_df['Length OD'].value_counts() # We should have a length of 14"
   ]
  },
  {
   "cell_type": "code",
   "execution_count": 13,
   "id": "53e88513",
   "metadata": {},
   "outputs": [],
   "source": [
    "DF_fixed = New_df[New_df['Order ID'] != 'Order ID'] # Remove rows where Order ID is Order ID"
   ]
  },
  {
   "cell_type": "code",
   "execution_count": 14,
   "id": "e117f62e",
   "metadata": {},
   "outputs": [
    {
     "data": {
      "text/plain": [
       "14    185950\n",
       "Name: Length OD, dtype: int64"
      ]
     },
     "execution_count": 14,
     "metadata": {},
     "output_type": "execute_result"
    }
   ],
   "source": [
    "DF_fixed['Length OD'].value_counts() # Standard Order Date"
   ]
  },
  {
   "cell_type": "code",
   "execution_count": 86,
   "id": "ac3b6383",
   "metadata": {},
   "outputs": [
    {
     "name": "stderr",
     "output_type": "stream",
     "text": [
      "/var/folders/xn/r9xc8p3151s4yw6tpl5_31mm0000gn/T/ipykernel_77840/646699143.py:1: SettingWithCopyWarning: \n",
      "A value is trying to be set on a copy of a slice from a DataFrame.\n",
      "Try using .loc[row_indexer,col_indexer] = value instead\n",
      "\n",
      "See the caveats in the documentation: https://pandas.pydata.org/pandas-docs/stable/user_guide/indexing.html#returning-a-view-versus-a-copy\n",
      "  DF_fixed['Order Date'] = pd.to_datetime(DF_fixed['Order Date'])\n"
     ]
    }
   ],
   "source": [
    "DF_fixed['Order Date'] = pd.to_datetime(DF_fixed['Order Date'])"
   ]
  },
  {
   "cell_type": "code",
   "execution_count": 87,
   "id": "5f21e429",
   "metadata": {},
   "outputs": [
    {
     "name": "stderr",
     "output_type": "stream",
     "text": [
      "/var/folders/xn/r9xc8p3151s4yw6tpl5_31mm0000gn/T/ipykernel_77840/1775407774.py:1: SettingWithCopyWarning: \n",
      "A value is trying to be set on a copy of a slice from a DataFrame.\n",
      "Try using .loc[row_indexer,col_indexer] = value instead\n",
      "\n",
      "See the caveats in the documentation: https://pandas.pydata.org/pandas-docs/stable/user_guide/indexing.html#returning-a-view-versus-a-copy\n",
      "  DF_fixed['Year'] = pd.DatetimeIndex(DF_fixed['Order Date']).year #Get the year from the Order Date\n"
     ]
    }
   ],
   "source": [
    "DF_fixed['Year'] = pd.DatetimeIndex(DF_fixed['Order Date']).year #Get the year from the Order Date"
   ]
  },
  {
   "cell_type": "code",
   "execution_count": 88,
   "id": "4458c4d3",
   "metadata": {},
   "outputs": [
    {
     "data": {
      "text/plain": [
       "2019    185916\n",
       "2020        34\n",
       "Name: Year, dtype: int64"
      ]
     },
     "execution_count": 88,
     "metadata": {},
     "output_type": "execute_result"
    }
   ],
   "source": [
    "DF_fixed.Year.value_counts()"
   ]
  },
  {
   "cell_type": "code",
   "execution_count": 18,
   "id": "7d050866",
   "metadata": {},
   "outputs": [],
   "source": [
    "# Eliminamos las de 2020?\n",
    "# Eliminar columna de length"
   ]
  },
  {
   "cell_type": "code",
   "execution_count": 19,
   "id": "dde9e480",
   "metadata": {},
   "outputs": [],
   "source": [
    "# Since we will just check 2019, let's remove the data from 2020"
   ]
  },
  {
   "cell_type": "code",
   "execution_count": 89,
   "id": "67229706",
   "metadata": {},
   "outputs": [],
   "source": [
    "df2019 = DF_fixed[DF_fixed['Year']!=2020] #Removing data from 2020."
   ]
  },
  {
   "cell_type": "code",
   "execution_count": 90,
   "id": "7b1bdb2b",
   "metadata": {},
   "outputs": [
    {
     "data": {
      "text/plain": [
       "array([2019])"
      ]
     },
     "execution_count": 90,
     "metadata": {},
     "output_type": "execute_result"
    }
   ],
   "source": [
    "df2019['Year'].unique() # Now data for 2019 only. "
   ]
  },
  {
   "cell_type": "code",
   "execution_count": 91,
   "id": "10126a04",
   "metadata": {},
   "outputs": [
    {
     "data": {
      "text/plain": [
       "Index(['Order ID', 'Product', 'Quantity Ordered', 'Price Each', 'Order Date',\n",
       "       'Purchase Address', 'Length OD', 'Year'],\n",
       "      dtype='object')"
      ]
     },
     "execution_count": 91,
     "metadata": {},
     "output_type": "execute_result"
    }
   ],
   "source": [
    "df2019.columns #Previously removed Length OD column."
   ]
  },
  {
   "cell_type": "code",
   "execution_count": 92,
   "id": "1f187555",
   "metadata": {},
   "outputs": [],
   "source": [
    "# Remove Year's column since every order is from 2019 now. "
   ]
  },
  {
   "cell_type": "code",
   "execution_count": 93,
   "id": "ef2c98bd",
   "metadata": {},
   "outputs": [
    {
     "name": "stderr",
     "output_type": "stream",
     "text": [
      "/opt/miniconda3/envs/minimal_ds/lib/python3.9/site-packages/pandas/core/frame.py:4906: SettingWithCopyWarning: \n",
      "A value is trying to be set on a copy of a slice from a DataFrame\n",
      "\n",
      "See the caveats in the documentation: https://pandas.pydata.org/pandas-docs/stable/user_guide/indexing.html#returning-a-view-versus-a-copy\n",
      "  return super().drop(\n"
     ]
    }
   ],
   "source": [
    "df2019.drop(columns={'Year'}, inplace = True)"
   ]
  },
  {
   "cell_type": "markdown",
   "id": "1fefc944",
   "metadata": {},
   "source": [
    "## Parse Location"
   ]
  },
  {
   "cell_type": "code",
   "execution_count": 94,
   "id": "ec1caccd",
   "metadata": {},
   "outputs": [
    {
     "data": {
      "text/html": [
       "<div>\n",
       "<style scoped>\n",
       "    .dataframe tbody tr th:only-of-type {\n",
       "        vertical-align: middle;\n",
       "    }\n",
       "\n",
       "    .dataframe tbody tr th {\n",
       "        vertical-align: top;\n",
       "    }\n",
       "\n",
       "    .dataframe thead th {\n",
       "        text-align: right;\n",
       "    }\n",
       "</style>\n",
       "<table border=\"1\" class=\"dataframe\">\n",
       "  <thead>\n",
       "    <tr style=\"text-align: right;\">\n",
       "      <th></th>\n",
       "      <th>Order ID</th>\n",
       "      <th>Product</th>\n",
       "      <th>Quantity Ordered</th>\n",
       "      <th>Price Each</th>\n",
       "      <th>Order Date</th>\n",
       "      <th>Purchase Address</th>\n",
       "      <th>Length OD</th>\n",
       "    </tr>\n",
       "  </thead>\n",
       "  <tbody>\n",
       "    <tr>\n",
       "      <th>0</th>\n",
       "      <td>295665</td>\n",
       "      <td>Macbook Pro Laptop</td>\n",
       "      <td>1</td>\n",
       "      <td>1700</td>\n",
       "      <td>2019-12-30 00:01:00</td>\n",
       "      <td>136 Church St, New York City, NY 10001</td>\n",
       "      <td>14</td>\n",
       "    </tr>\n",
       "    <tr>\n",
       "      <th>1</th>\n",
       "      <td>295666</td>\n",
       "      <td>LG Washing Machine</td>\n",
       "      <td>1</td>\n",
       "      <td>600.0</td>\n",
       "      <td>2019-12-29 07:03:00</td>\n",
       "      <td>562 2nd St, New York City, NY 10001</td>\n",
       "      <td>14</td>\n",
       "    </tr>\n",
       "    <tr>\n",
       "      <th>2</th>\n",
       "      <td>295667</td>\n",
       "      <td>USB-C Charging Cable</td>\n",
       "      <td>1</td>\n",
       "      <td>11.95</td>\n",
       "      <td>2019-12-12 18:21:00</td>\n",
       "      <td>277 Main St, New York City, NY 10001</td>\n",
       "      <td>14</td>\n",
       "    </tr>\n",
       "    <tr>\n",
       "      <th>3</th>\n",
       "      <td>295668</td>\n",
       "      <td>27in FHD Monitor</td>\n",
       "      <td>1</td>\n",
       "      <td>149.99</td>\n",
       "      <td>2019-12-22 15:13:00</td>\n",
       "      <td>410 6th St, San Francisco, CA 94016</td>\n",
       "      <td>14</td>\n",
       "    </tr>\n",
       "    <tr>\n",
       "      <th>4</th>\n",
       "      <td>295669</td>\n",
       "      <td>USB-C Charging Cable</td>\n",
       "      <td>1</td>\n",
       "      <td>11.95</td>\n",
       "      <td>2019-12-18 12:38:00</td>\n",
       "      <td>43 Hill St, Atlanta, GA 30301</td>\n",
       "      <td>14</td>\n",
       "    </tr>\n",
       "    <tr>\n",
       "      <th>...</th>\n",
       "      <td>...</td>\n",
       "      <td>...</td>\n",
       "      <td>...</td>\n",
       "      <td>...</td>\n",
       "      <td>...</td>\n",
       "      <td>...</td>\n",
       "      <td>...</td>\n",
       "    </tr>\n",
       "    <tr>\n",
       "      <th>186845</th>\n",
       "      <td>222905</td>\n",
       "      <td>AAA Batteries (4-pack)</td>\n",
       "      <td>1</td>\n",
       "      <td>2.99</td>\n",
       "      <td>2019-06-07 19:02:00</td>\n",
       "      <td>795 Pine St, Boston, MA 02215</td>\n",
       "      <td>14</td>\n",
       "    </tr>\n",
       "    <tr>\n",
       "      <th>186846</th>\n",
       "      <td>222906</td>\n",
       "      <td>27in FHD Monitor</td>\n",
       "      <td>1</td>\n",
       "      <td>149.99</td>\n",
       "      <td>2019-06-01 19:29:00</td>\n",
       "      <td>495 North St, New York City, NY 10001</td>\n",
       "      <td>14</td>\n",
       "    </tr>\n",
       "    <tr>\n",
       "      <th>186847</th>\n",
       "      <td>222907</td>\n",
       "      <td>USB-C Charging Cable</td>\n",
       "      <td>1</td>\n",
       "      <td>11.95</td>\n",
       "      <td>2019-06-22 18:57:00</td>\n",
       "      <td>319 Ridge St, San Francisco, CA 94016</td>\n",
       "      <td>14</td>\n",
       "    </tr>\n",
       "    <tr>\n",
       "      <th>186848</th>\n",
       "      <td>222908</td>\n",
       "      <td>USB-C Charging Cable</td>\n",
       "      <td>1</td>\n",
       "      <td>11.95</td>\n",
       "      <td>2019-06-26 18:35:00</td>\n",
       "      <td>916 Main St, San Francisco, CA 94016</td>\n",
       "      <td>14</td>\n",
       "    </tr>\n",
       "    <tr>\n",
       "      <th>186849</th>\n",
       "      <td>222909</td>\n",
       "      <td>AAA Batteries (4-pack)</td>\n",
       "      <td>1</td>\n",
       "      <td>2.99</td>\n",
       "      <td>2019-06-25 14:33:00</td>\n",
       "      <td>209 11th St, Atlanta, GA 30301</td>\n",
       "      <td>14</td>\n",
       "    </tr>\n",
       "  </tbody>\n",
       "</table>\n",
       "<p>185916 rows × 7 columns</p>\n",
       "</div>"
      ],
      "text/plain": [
       "       Order ID                 Product Quantity Ordered Price Each  \\\n",
       "0        295665      Macbook Pro Laptop                1       1700   \n",
       "1        295666      LG Washing Machine                1      600.0   \n",
       "2        295667    USB-C Charging Cable                1      11.95   \n",
       "3        295668        27in FHD Monitor                1     149.99   \n",
       "4        295669    USB-C Charging Cable                1      11.95   \n",
       "...         ...                     ...              ...        ...   \n",
       "186845   222905  AAA Batteries (4-pack)                1       2.99   \n",
       "186846   222906        27in FHD Monitor                1     149.99   \n",
       "186847   222907    USB-C Charging Cable                1      11.95   \n",
       "186848   222908    USB-C Charging Cable                1      11.95   \n",
       "186849   222909  AAA Batteries (4-pack)                1       2.99   \n",
       "\n",
       "                Order Date                        Purchase Address  Length OD  \n",
       "0      2019-12-30 00:01:00  136 Church St, New York City, NY 10001         14  \n",
       "1      2019-12-29 07:03:00     562 2nd St, New York City, NY 10001         14  \n",
       "2      2019-12-12 18:21:00    277 Main St, New York City, NY 10001         14  \n",
       "3      2019-12-22 15:13:00     410 6th St, San Francisco, CA 94016         14  \n",
       "4      2019-12-18 12:38:00           43 Hill St, Atlanta, GA 30301         14  \n",
       "...                    ...                                     ...        ...  \n",
       "186845 2019-06-07 19:02:00           795 Pine St, Boston, MA 02215         14  \n",
       "186846 2019-06-01 19:29:00   495 North St, New York City, NY 10001         14  \n",
       "186847 2019-06-22 18:57:00   319 Ridge St, San Francisco, CA 94016         14  \n",
       "186848 2019-06-26 18:35:00    916 Main St, San Francisco, CA 94016         14  \n",
       "186849 2019-06-25 14:33:00          209 11th St, Atlanta, GA 30301         14  \n",
       "\n",
       "[185916 rows x 7 columns]"
      ]
     },
     "execution_count": 94,
     "metadata": {},
     "output_type": "execute_result"
    }
   ],
   "source": [
    "df2019"
   ]
  },
  {
   "cell_type": "code",
   "execution_count": 95,
   "id": "cb798a75",
   "metadata": {},
   "outputs": [
    {
     "name": "stderr",
     "output_type": "stream",
     "text": [
      "/opt/miniconda3/envs/minimal_ds/lib/python3.9/site-packages/pandas/core/frame.py:3641: SettingWithCopyWarning: \n",
      "A value is trying to be set on a copy of a slice from a DataFrame.\n",
      "Try using .loc[row_indexer,col_indexer] = value instead\n",
      "\n",
      "See the caveats in the documentation: https://pandas.pydata.org/pandas-docs/stable/user_guide/indexing.html#returning-a-view-versus-a-copy\n",
      "  self[k1] = value[k2]\n"
     ]
    }
   ],
   "source": [
    "df2019[['Street', 'City', 'State']] = df2019['Purchase Address'].str.split(',', expand = True)"
   ]
  },
  {
   "cell_type": "code",
   "execution_count": 96,
   "id": "1759ae86",
   "metadata": {},
   "outputs": [
    {
     "data": {
      "text/plain": [
       "0         [136 Church St,  New York City,  NY 10001]\n",
       "1            [562 2nd St,  New York City,  NY 10001]\n",
       "2           [277 Main St,  New York City,  NY 10001]\n",
       "3            [410 6th St,  San Francisco,  CA 94016]\n",
       "4                  [43 Hill St,  Atlanta,  GA 30301]\n",
       "                             ...                    \n",
       "186845             [795 Pine St,  Boston,  MA 02215]\n",
       "186846     [495 North St,  New York City,  NY 10001]\n",
       "186847     [319 Ridge St,  San Francisco,  CA 94016]\n",
       "186848      [916 Main St,  San Francisco,  CA 94016]\n",
       "186849            [209 11th St,  Atlanta,  GA 30301]\n",
       "Name: Purchase Address, Length: 185916, dtype: object"
      ]
     },
     "execution_count": 96,
     "metadata": {},
     "output_type": "execute_result"
    }
   ],
   "source": [
    "locations"
   ]
  },
  {
   "cell_type": "code",
   "execution_count": 97,
   "id": "f7381e06",
   "metadata": {},
   "outputs": [
    {
     "name": "stderr",
     "output_type": "stream",
     "text": [
      "/var/folders/xn/r9xc8p3151s4yw6tpl5_31mm0000gn/T/ipykernel_77840/3823037672.py:1: SettingWithCopyWarning: \n",
      "A value is trying to be set on a copy of a slice from a DataFrame.\n",
      "Try using .loc[row_indexer,col_indexer] = value instead\n",
      "\n",
      "See the caveats in the documentation: https://pandas.pydata.org/pandas-docs/stable/user_guide/indexing.html#returning-a-view-versus-a-copy\n",
      "  df2019['State'] = df2019['State'].str.split().str[0] # Don't need the ZIP Code\n"
     ]
    }
   ],
   "source": [
    "df2019['State'] = df2019['State'].str.split().str[0] # Don't need the ZIP Code"
   ]
  },
  {
   "cell_type": "code",
   "execution_count": 98,
   "id": "7eaab98f",
   "metadata": {},
   "outputs": [
    {
     "name": "stderr",
     "output_type": "stream",
     "text": [
      "/var/folders/xn/r9xc8p3151s4yw6tpl5_31mm0000gn/T/ipykernel_77840/2310911736.py:1: SettingWithCopyWarning: \n",
      "A value is trying to be set on a copy of a slice from a DataFrame.\n",
      "Try using .loc[row_indexer,col_indexer] = value instead\n",
      "\n",
      "See the caveats in the documentation: https://pandas.pydata.org/pandas-docs/stable/user_guide/indexing.html#returning-a-view-versus-a-copy\n",
      "  df2019['Zip Code'] = df2019['Purchase Address'].str.split().str[-1]\n"
     ]
    }
   ],
   "source": [
    "df2019['Zip Code'] = df2019['Purchase Address'].str.split().str[-1]"
   ]
  },
  {
   "cell_type": "code",
   "execution_count": 99,
   "id": "064adec4",
   "metadata": {},
   "outputs": [
    {
     "name": "stderr",
     "output_type": "stream",
     "text": [
      "/opt/miniconda3/envs/minimal_ds/lib/python3.9/site-packages/pandas/core/frame.py:4906: SettingWithCopyWarning: \n",
      "A value is trying to be set on a copy of a slice from a DataFrame\n",
      "\n",
      "See the caveats in the documentation: https://pandas.pydata.org/pandas-docs/stable/user_guide/indexing.html#returning-a-view-versus-a-copy\n",
      "  return super().drop(\n"
     ]
    }
   ],
   "source": [
    "df2019.drop(columns={'Purchase Address'}, inplace = True)"
   ]
  },
  {
   "cell_type": "markdown",
   "id": "e98e5d2f",
   "metadata": {},
   "source": [
    "## Add total order price"
   ]
  },
  {
   "cell_type": "code",
   "execution_count": 100,
   "id": "74b0cc61",
   "metadata": {
    "scrolled": true
   },
   "outputs": [
    {
     "name": "stderr",
     "output_type": "stream",
     "text": [
      "/var/folders/xn/r9xc8p3151s4yw6tpl5_31mm0000gn/T/ipykernel_77840/3066664179.py:1: SettingWithCopyWarning: \n",
      "A value is trying to be set on a copy of a slice from a DataFrame.\n",
      "Try using .loc[row_indexer,col_indexer] = value instead\n",
      "\n",
      "See the caveats in the documentation: https://pandas.pydata.org/pandas-docs/stable/user_guide/indexing.html#returning-a-view-versus-a-copy\n",
      "  df2019['Quantity Ordered'] = df2019['Quantity Ordered'].astype(int)\n"
     ]
    }
   ],
   "source": [
    "df2019['Quantity Ordered'] = df2019['Quantity Ordered'].astype(int)"
   ]
  },
  {
   "cell_type": "code",
   "execution_count": 101,
   "id": "2e391d02",
   "metadata": {},
   "outputs": [
    {
     "name": "stderr",
     "output_type": "stream",
     "text": [
      "/var/folders/xn/r9xc8p3151s4yw6tpl5_31mm0000gn/T/ipykernel_77840/38636998.py:1: SettingWithCopyWarning: \n",
      "A value is trying to be set on a copy of a slice from a DataFrame.\n",
      "Try using .loc[row_indexer,col_indexer] = value instead\n",
      "\n",
      "See the caveats in the documentation: https://pandas.pydata.org/pandas-docs/stable/user_guide/indexing.html#returning-a-view-versus-a-copy\n",
      "  df2019['Price Each'] = df2019['Price Each'].astype(float)\n"
     ]
    }
   ],
   "source": [
    "df2019['Price Each'] = df2019['Price Each'].astype(float)"
   ]
  },
  {
   "cell_type": "code",
   "execution_count": 102,
   "id": "7168a383",
   "metadata": {
    "scrolled": true
   },
   "outputs": [
    {
     "name": "stderr",
     "output_type": "stream",
     "text": [
      "/var/folders/xn/r9xc8p3151s4yw6tpl5_31mm0000gn/T/ipykernel_77840/192534535.py:1: SettingWithCopyWarning: \n",
      "A value is trying to be set on a copy of a slice from a DataFrame.\n",
      "Try using .loc[row_indexer,col_indexer] = value instead\n",
      "\n",
      "See the caveats in the documentation: https://pandas.pydata.org/pandas-docs/stable/user_guide/indexing.html#returning-a-view-versus-a-copy\n",
      "  df2019['Order Price'] = df2019['Quantity Ordered'] * df2019['Price Each']\n"
     ]
    }
   ],
   "source": [
    "df2019['Order Price'] = df2019['Quantity Ordered'] * df2019['Price Each']"
   ]
  },
  {
   "cell_type": "code",
   "execution_count": 103,
   "id": "5c8dbc7e",
   "metadata": {},
   "outputs": [
    {
     "data": {
      "text/html": [
       "<div>\n",
       "<style scoped>\n",
       "    .dataframe tbody tr th:only-of-type {\n",
       "        vertical-align: middle;\n",
       "    }\n",
       "\n",
       "    .dataframe tbody tr th {\n",
       "        vertical-align: top;\n",
       "    }\n",
       "\n",
       "    .dataframe thead th {\n",
       "        text-align: right;\n",
       "    }\n",
       "</style>\n",
       "<table border=\"1\" class=\"dataframe\">\n",
       "  <thead>\n",
       "    <tr style=\"text-align: right;\">\n",
       "      <th></th>\n",
       "      <th>Order ID</th>\n",
       "      <th>Product</th>\n",
       "      <th>Quantity Ordered</th>\n",
       "      <th>Price Each</th>\n",
       "      <th>Order Date</th>\n",
       "      <th>Length OD</th>\n",
       "      <th>Street</th>\n",
       "      <th>City</th>\n",
       "      <th>State</th>\n",
       "      <th>Zip Code</th>\n",
       "      <th>Order Price</th>\n",
       "    </tr>\n",
       "  </thead>\n",
       "  <tbody>\n",
       "    <tr>\n",
       "      <th>0</th>\n",
       "      <td>295665</td>\n",
       "      <td>Macbook Pro Laptop</td>\n",
       "      <td>1</td>\n",
       "      <td>1700.00</td>\n",
       "      <td>2019-12-30 00:01:00</td>\n",
       "      <td>14</td>\n",
       "      <td>136 Church St</td>\n",
       "      <td>New York City</td>\n",
       "      <td>NY</td>\n",
       "      <td>10001</td>\n",
       "      <td>1700.00</td>\n",
       "    </tr>\n",
       "    <tr>\n",
       "      <th>1</th>\n",
       "      <td>295666</td>\n",
       "      <td>LG Washing Machine</td>\n",
       "      <td>1</td>\n",
       "      <td>600.00</td>\n",
       "      <td>2019-12-29 07:03:00</td>\n",
       "      <td>14</td>\n",
       "      <td>562 2nd St</td>\n",
       "      <td>New York City</td>\n",
       "      <td>NY</td>\n",
       "      <td>10001</td>\n",
       "      <td>600.00</td>\n",
       "    </tr>\n",
       "    <tr>\n",
       "      <th>2</th>\n",
       "      <td>295667</td>\n",
       "      <td>USB-C Charging Cable</td>\n",
       "      <td>1</td>\n",
       "      <td>11.95</td>\n",
       "      <td>2019-12-12 18:21:00</td>\n",
       "      <td>14</td>\n",
       "      <td>277 Main St</td>\n",
       "      <td>New York City</td>\n",
       "      <td>NY</td>\n",
       "      <td>10001</td>\n",
       "      <td>11.95</td>\n",
       "    </tr>\n",
       "    <tr>\n",
       "      <th>3</th>\n",
       "      <td>295668</td>\n",
       "      <td>27in FHD Monitor</td>\n",
       "      <td>1</td>\n",
       "      <td>149.99</td>\n",
       "      <td>2019-12-22 15:13:00</td>\n",
       "      <td>14</td>\n",
       "      <td>410 6th St</td>\n",
       "      <td>San Francisco</td>\n",
       "      <td>CA</td>\n",
       "      <td>94016</td>\n",
       "      <td>149.99</td>\n",
       "    </tr>\n",
       "    <tr>\n",
       "      <th>4</th>\n",
       "      <td>295669</td>\n",
       "      <td>USB-C Charging Cable</td>\n",
       "      <td>1</td>\n",
       "      <td>11.95</td>\n",
       "      <td>2019-12-18 12:38:00</td>\n",
       "      <td>14</td>\n",
       "      <td>43 Hill St</td>\n",
       "      <td>Atlanta</td>\n",
       "      <td>GA</td>\n",
       "      <td>30301</td>\n",
       "      <td>11.95</td>\n",
       "    </tr>\n",
       "    <tr>\n",
       "      <th>...</th>\n",
       "      <td>...</td>\n",
       "      <td>...</td>\n",
       "      <td>...</td>\n",
       "      <td>...</td>\n",
       "      <td>...</td>\n",
       "      <td>...</td>\n",
       "      <td>...</td>\n",
       "      <td>...</td>\n",
       "      <td>...</td>\n",
       "      <td>...</td>\n",
       "      <td>...</td>\n",
       "    </tr>\n",
       "    <tr>\n",
       "      <th>186845</th>\n",
       "      <td>222905</td>\n",
       "      <td>AAA Batteries (4-pack)</td>\n",
       "      <td>1</td>\n",
       "      <td>2.99</td>\n",
       "      <td>2019-06-07 19:02:00</td>\n",
       "      <td>14</td>\n",
       "      <td>795 Pine St</td>\n",
       "      <td>Boston</td>\n",
       "      <td>MA</td>\n",
       "      <td>02215</td>\n",
       "      <td>2.99</td>\n",
       "    </tr>\n",
       "    <tr>\n",
       "      <th>186846</th>\n",
       "      <td>222906</td>\n",
       "      <td>27in FHD Monitor</td>\n",
       "      <td>1</td>\n",
       "      <td>149.99</td>\n",
       "      <td>2019-06-01 19:29:00</td>\n",
       "      <td>14</td>\n",
       "      <td>495 North St</td>\n",
       "      <td>New York City</td>\n",
       "      <td>NY</td>\n",
       "      <td>10001</td>\n",
       "      <td>149.99</td>\n",
       "    </tr>\n",
       "    <tr>\n",
       "      <th>186847</th>\n",
       "      <td>222907</td>\n",
       "      <td>USB-C Charging Cable</td>\n",
       "      <td>1</td>\n",
       "      <td>11.95</td>\n",
       "      <td>2019-06-22 18:57:00</td>\n",
       "      <td>14</td>\n",
       "      <td>319 Ridge St</td>\n",
       "      <td>San Francisco</td>\n",
       "      <td>CA</td>\n",
       "      <td>94016</td>\n",
       "      <td>11.95</td>\n",
       "    </tr>\n",
       "    <tr>\n",
       "      <th>186848</th>\n",
       "      <td>222908</td>\n",
       "      <td>USB-C Charging Cable</td>\n",
       "      <td>1</td>\n",
       "      <td>11.95</td>\n",
       "      <td>2019-06-26 18:35:00</td>\n",
       "      <td>14</td>\n",
       "      <td>916 Main St</td>\n",
       "      <td>San Francisco</td>\n",
       "      <td>CA</td>\n",
       "      <td>94016</td>\n",
       "      <td>11.95</td>\n",
       "    </tr>\n",
       "    <tr>\n",
       "      <th>186849</th>\n",
       "      <td>222909</td>\n",
       "      <td>AAA Batteries (4-pack)</td>\n",
       "      <td>1</td>\n",
       "      <td>2.99</td>\n",
       "      <td>2019-06-25 14:33:00</td>\n",
       "      <td>14</td>\n",
       "      <td>209 11th St</td>\n",
       "      <td>Atlanta</td>\n",
       "      <td>GA</td>\n",
       "      <td>30301</td>\n",
       "      <td>2.99</td>\n",
       "    </tr>\n",
       "  </tbody>\n",
       "</table>\n",
       "<p>185916 rows × 11 columns</p>\n",
       "</div>"
      ],
      "text/plain": [
       "       Order ID                 Product  Quantity Ordered  Price Each  \\\n",
       "0        295665      Macbook Pro Laptop                 1     1700.00   \n",
       "1        295666      LG Washing Machine                 1      600.00   \n",
       "2        295667    USB-C Charging Cable                 1       11.95   \n",
       "3        295668        27in FHD Monitor                 1      149.99   \n",
       "4        295669    USB-C Charging Cable                 1       11.95   \n",
       "...         ...                     ...               ...         ...   \n",
       "186845   222905  AAA Batteries (4-pack)                 1        2.99   \n",
       "186846   222906        27in FHD Monitor                 1      149.99   \n",
       "186847   222907    USB-C Charging Cable                 1       11.95   \n",
       "186848   222908    USB-C Charging Cable                 1       11.95   \n",
       "186849   222909  AAA Batteries (4-pack)                 1        2.99   \n",
       "\n",
       "                Order Date  Length OD         Street            City State  \\\n",
       "0      2019-12-30 00:01:00         14  136 Church St   New York City    NY   \n",
       "1      2019-12-29 07:03:00         14     562 2nd St   New York City    NY   \n",
       "2      2019-12-12 18:21:00         14    277 Main St   New York City    NY   \n",
       "3      2019-12-22 15:13:00         14     410 6th St   San Francisco    CA   \n",
       "4      2019-12-18 12:38:00         14     43 Hill St         Atlanta    GA   \n",
       "...                    ...        ...            ...             ...   ...   \n",
       "186845 2019-06-07 19:02:00         14    795 Pine St          Boston    MA   \n",
       "186846 2019-06-01 19:29:00         14   495 North St   New York City    NY   \n",
       "186847 2019-06-22 18:57:00         14   319 Ridge St   San Francisco    CA   \n",
       "186848 2019-06-26 18:35:00         14    916 Main St   San Francisco    CA   \n",
       "186849 2019-06-25 14:33:00         14    209 11th St         Atlanta    GA   \n",
       "\n",
       "       Zip Code  Order Price  \n",
       "0         10001      1700.00  \n",
       "1         10001       600.00  \n",
       "2         10001        11.95  \n",
       "3         94016       149.99  \n",
       "4         30301        11.95  \n",
       "...         ...          ...  \n",
       "186845    02215         2.99  \n",
       "186846    10001       149.99  \n",
       "186847    94016        11.95  \n",
       "186848    94016        11.95  \n",
       "186849    30301         2.99  \n",
       "\n",
       "[185916 rows x 11 columns]"
      ]
     },
     "execution_count": 103,
     "metadata": {},
     "output_type": "execute_result"
    }
   ],
   "source": [
    "df2019.to_csv('')"
   ]
  },
  {
   "cell_type": "code",
   "execution_count": null,
   "id": "ec632969",
   "metadata": {},
   "outputs": [],
   "source": []
  }
 ],
 "metadata": {
  "kernelspec": {
   "display_name": "Python 3 (ipykernel)",
   "language": "python",
   "name": "python3"
  },
  "language_info": {
   "codemirror_mode": {
    "name": "ipython",
    "version": 3
   },
   "file_extension": ".py",
   "mimetype": "text/x-python",
   "name": "python",
   "nbconvert_exporter": "python",
   "pygments_lexer": "ipython3",
   "version": "3.9.7"
  }
 },
 "nbformat": 4,
 "nbformat_minor": 5
}
